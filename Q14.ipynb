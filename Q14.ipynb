{
 "cells": [
  {
   "cell_type": "code",
   "execution_count": 1,
   "metadata": {},
   "outputs": [],
   "source": [
    "def collatz_seq(n):\n",
    "    results=[]\n",
    "    results.append(n)\n",
    "    num=n\n",
    "    while num!=1:\n",
    "        if num%2==0:\n",
    "            result=num/2\n",
    "            results.append(result)\n",
    "        elif num%2!=0:\n",
    "            result=(3*num)+1\n",
    "            results.append(result)\n",
    "        num=result\n",
    "    return results, len(results)\n"
   ]
  },
  {
   "cell_type": "code",
   "execution_count": 13,
   "metadata": {},
   "outputs": [
    {
     "name": "stdout",
     "output_type": "stream",
     "text": [
      "2\n",
      "3\n",
      "6\n",
      "7\n",
      "9\n",
      "18\n",
      "25\n",
      "27\n",
      "54\n",
      "73\n",
      "97\n",
      "129\n",
      "171\n",
      "231\n",
      "313\n",
      "327\n",
      "649\n",
      "703\n",
      "871\n",
      "1161\n",
      "2223\n",
      "2463\n",
      "2919\n",
      "3711\n",
      "6171\n",
      "10971\n",
      "13255\n",
      "17647\n",
      "23529\n",
      "26623\n",
      "34239\n",
      "35655\n",
      "52527\n",
      "77031\n",
      "106239\n",
      "142587\n",
      "156159\n",
      "216367\n",
      "230631\n",
      "410011\n",
      "511935\n",
      "626331\n",
      "837799\n"
     ]
    }
   ],
   "source": [
    "length=0\n",
    "for i in range(2,1000000):\n",
    "    if collatz_seq(i)[1]>length:\n",
    "        length=collatz_seq(i)[1]\n",
    "        print(collatz_seq(i)[0][0])\n"
   ]
  },
  {
   "cell_type": "code",
   "execution_count": null,
   "metadata": {},
   "outputs": [],
   "source": []
  }
 ],
 "metadata": {
  "kernelspec": {
   "display_name": "base",
   "language": "python",
   "name": "python3"
  },
  "language_info": {
   "codemirror_mode": {
    "name": "ipython",
    "version": 3
   },
   "file_extension": ".py",
   "mimetype": "text/x-python",
   "name": "python",
   "nbconvert_exporter": "python",
   "pygments_lexer": "ipython3",
   "version": "3.11.5"
  }
 },
 "nbformat": 4,
 "nbformat_minor": 2
}
