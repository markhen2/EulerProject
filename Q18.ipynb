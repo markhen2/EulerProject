{
 "cells": [
  {
   "cell_type": "code",
   "execution_count": 1,
   "metadata": {},
   "outputs": [],
   "source": [
    "data='''\n",
    "75\n",
    "95 64\n",
    "17 47 82\n",
    "18 35 87 10\n",
    "20 04 82 47 65\n",
    "19 01 23 75 03 34\n",
    "88 02 77 73 07 63 67\n",
    "99 65 04 28 06 16 70 92\n",
    "41 41 26 56 83 40 80 70 33\n",
    "41 48 72 33 47 32 37 16 94 29\n",
    "53 71 44 65 25 43 91 52 97 51 14\n",
    "70 11 33 28 77 73 17 78 39 68 17 57\n",
    "91 71 52 38 17 14 91 43 58 50 27 29 48\n",
    "63 66 04 68 89 53 67 30 73 16 69 87 40 31\n",
    "04 62 98 27 23 09 70 98 73 93 38 53 60 04 23\n",
    "'''"
   ]
  },
  {
   "cell_type": "code",
   "execution_count": 2,
   "metadata": {},
   "outputs": [],
   "source": [
    "data=data.split()"
   ]
  },
  {
   "cell_type": "code",
   "execution_count": 16,
   "metadata": {},
   "outputs": [],
   "source": [
    "#doing it with smaller triangle to build function"
   ]
  },
  {
   "cell_type": "code",
   "execution_count": 1,
   "metadata": {},
   "outputs": [],
   "source": [
    "data='''\n",
    "3\n",
    "7 4\n",
    "2 4 6\n",
    "8 5 9 3\n",
    "'''"
   ]
  },
  {
   "cell_type": "code",
   "execution_count": 2,
   "metadata": {},
   "outputs": [
    {
     "data": {
      "text/plain": [
       "['3', '7', '4', '2', '4', '6', '8', '5', '9', '3']"
      ]
     },
     "execution_count": 2,
     "metadata": {},
     "output_type": "execute_result"
    }
   ],
   "source": [
    "data=data.split()\n",
    "data"
   ]
  },
  {
   "cell_type": "code",
   "execution_count": 3,
   "metadata": {},
   "outputs": [
    {
     "name": "stdout",
     "output_type": "stream",
     "text": [
      "['3', '7', '4', '9']\n"
     ]
    }
   ],
   "source": [
    "numbers=[]\n",
    "numbers.append(data[0])\n",
    "step=0\n",
    "\n",
    "#Below is the correct logic for a 4 row triangle \n",
    "\n",
    "numbers.append(max(data[1],data[2]))\n",
    "\n",
    "prev=max(data[1],data[2])\n",
    "\n",
    "\n",
    "prev_loc=data.index(prev)\n",
    "numbers.append(max(data[prev_loc+2],data[prev_loc+3]))\n",
    "\n",
    "prev=max(data[prev_loc+2],data[prev_loc+3])\n",
    "prev_loc=data.index(prev)\n",
    "numbers.append(max(data[prev_loc+4],data[prev_loc+5],data[prev_loc+6]))\n",
    "print(numbers)\n",
    "\n"
   ]
  },
  {
   "cell_type": "code",
   "execution_count": 6,
   "metadata": {},
   "outputs": [
    {
     "name": "stdout",
     "output_type": "stream",
     "text": [
      "['4', '2', '4', '6', '8']\n"
     ]
    }
   ],
   "source": [
    "print(data[prev_loc:prev_loc+5])"
   ]
  },
  {
   "cell_type": "code",
   "execution_count": 33,
   "metadata": {},
   "outputs": [
    {
     "ename": "ValueError",
     "evalue": "max() arg is an empty sequence",
     "output_type": "error",
     "traceback": [
      "\u001b[0;31m---------------------------------------------------------------------------\u001b[0m",
      "\u001b[0;31mValueError\u001b[0m                                Traceback (most recent call last)",
      "Cell \u001b[0;32mIn[33], line 9\u001b[0m\n\u001b[1;32m      7\u001b[0m i\u001b[38;5;241m=\u001b[39m\u001b[38;5;241m3\u001b[39m\n\u001b[1;32m      8\u001b[0m \u001b[38;5;28;01mwhile\u001b[39;00m step\u001b[38;5;241m<\u001b[39m\u001b[38;5;241m200\u001b[39m:\n\u001b[0;32m----> 9\u001b[0m     numbers\u001b[38;5;241m.\u001b[39mappend(\u001b[38;5;28mmax\u001b[39m(data[step:step\u001b[38;5;241m+\u001b[39mi]))\n\u001b[1;32m     10\u001b[0m     step\u001b[38;5;241m+\u001b[39m\u001b[38;5;241m=\u001b[39mstep_step\n\u001b[1;32m     11\u001b[0m     step_step\u001b[38;5;241m+\u001b[39m\u001b[38;5;241m=\u001b[39m\u001b[38;5;241m1\u001b[39m\n",
      "\u001b[0;31mValueError\u001b[0m: max() arg is an empty sequence"
     ]
    }
   ],
   "source": [
    "numbers=[]\n",
    "numbers.append(data[0])\n",
    "numbers.append(max(data[1:2]))\n",
    "\n",
    "step_step=3\n",
    "step=3\n",
    "i=3\n",
    "while step<200:\n",
    "    numbers.append(max(data[step:step+i]))\n",
    "    step+=step_step\n",
    "    step_step+=1\n",
    "    i+=1\n"
   ]
  },
  {
   "cell_type": "code",
   "execution_count": 38,
   "metadata": {},
   "outputs": [
    {
     "data": {
      "text/plain": [
       "1064"
      ]
     },
     "execution_count": 38,
     "metadata": {},
     "output_type": "execute_result"
    }
   ],
   "source": [
    "75+95+47+87+82+75+73+28+83+47+43+73+91+67+98"
   ]
  },
  {
   "cell_type": "code",
   "execution_count": 23,
   "metadata": {},
   "outputs": [
    {
     "data": {
      "text/plain": [
       "['17', '47', '82']"
      ]
     },
     "execution_count": 23,
     "metadata": {},
     "output_type": "execute_result"
    }
   ],
   "source": [
    "step=3\n",
    "i=3\n",
    "data[step:step+i]"
   ]
  },
  {
   "cell_type": "code",
   "execution_count": 26,
   "metadata": {},
   "outputs": [
    {
     "data": {
      "text/plain": [
       "['18', '35', '87', '10']"
      ]
     },
     "execution_count": 26,
     "metadata": {},
     "output_type": "execute_result"
    }
   ],
   "source": [
    "step=6\n",
    "i=4\n",
    "data[step:step+i]"
   ]
  },
  {
   "cell_type": "code",
   "execution_count": 29,
   "metadata": {},
   "outputs": [
    {
     "data": {
      "text/plain": [
       "['20', '04', '82', '47', '65']"
      ]
     },
     "execution_count": 29,
     "metadata": {},
     "output_type": "execute_result"
    }
   ],
   "source": [
    "step=10\n",
    "i=5\n",
    "data[step:step+i]"
   ]
  },
  {
   "cell_type": "code",
   "execution_count": 30,
   "metadata": {},
   "outputs": [
    {
     "data": {
      "text/plain": [
       "['19', '01', '23', '75', '03', '34']"
      ]
     },
     "execution_count": 30,
     "metadata": {},
     "output_type": "execute_result"
    }
   ],
   "source": [
    "step=15\n",
    "i=6\n",
    "data[step:step+i]"
   ]
  },
  {
   "cell_type": "code",
   "execution_count": 7,
   "metadata": {},
   "outputs": [],
   "source": [
    "data='''\n",
    "75\n",
    "95 64\n",
    "17 47 82\n",
    "18 35 87 10\n",
    "20 04 82 47 65\n",
    "19 01 23 75 03 34\n",
    "88 02 77 73 07 63 67\n",
    "99 65 04 28 06 16 70 92\n",
    "41 41 26 56 83 40 80 70 33\n",
    "41 48 72 33 47 32 37 16 94 29\n",
    "53 71 44 65 25 43 91 52 97 51 14\n",
    "70 11 33 28 77 73 17 78 39 68 17 57\n",
    "91 71 52 38 17 14 91 43 58 50 27 29 48\n",
    "63 66 04 68 89 53 67 30 73 16 69 87 40 31\n",
    "04 62 98 27 23 09 70 98 73 93 38 53 60 04 23\n",
    "'''\n",
    "data=data.split()"
   ]
  },
  {
   "cell_type": "code",
   "execution_count": 77,
   "metadata": {},
   "outputs": [
    {
     "name": "stdout",
     "output_type": "stream",
     "text": [
      "Step: 1\n",
      "Location 0\n",
      "Search range(1,2\n",
      "Step: 2\n",
      "Location 1\n",
      "Search range(3,4\n",
      "Step: 3\n",
      "Location 2\n",
      "Search range(5,6\n"
     ]
    },
    {
     "data": {
      "text/plain": [
       "['3', '7', '4', '8']"
      ]
     },
     "execution_count": 77,
     "metadata": {},
     "output_type": "execute_result"
    }
   ],
   "source": [
    "numbers=[]\n",
    "numbers.append(data[0])\n",
    "location=0\n",
    "\n",
    "\n",
    "\n",
    "for step in range(1,4):\n",
    "    print(f\"Step: {step}\")\n",
    "    next_value=max(data[location+step],data[location+step+1])\n",
    "    print(f\"Location {location}\")\n",
    "    print(f\"Search range({location+step},{location+step+1}\")\n",
    "    \n",
    "    numbers.append(next_value)\n",
    "    location=data.index(next_value)\n",
    "\n",
    "\n",
    "numbers\n",
    "    "
   ]
  },
  {
   "cell_type": "code",
   "execution_count": null,
   "metadata": {},
   "outputs": [],
   "source": [
    "integers = [int(num) for num in numbers]"
   ]
  },
  {
   "cell_type": "code",
   "execution_count": null,
   "metadata": {},
   "outputs": [],
   "source": [
    "numbers=[]\n",
    "numbers.append(data[0])\n",
    "location=0\n",
    "\n"
   ]
  }
 ],
 "metadata": {
  "kernelspec": {
   "display_name": "base",
   "language": "python",
   "name": "python3"
  },
  "language_info": {
   "codemirror_mode": {
    "name": "ipython",
    "version": 3
   },
   "file_extension": ".py",
   "mimetype": "text/x-python",
   "name": "python",
   "nbconvert_exporter": "python",
   "pygments_lexer": "ipython3",
   "version": "3.11.5"
  }
 },
 "nbformat": 4,
 "nbformat_minor": 2
}
